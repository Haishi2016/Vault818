{
 "cells": [
  {
   "cell_type": "markdown",
   "metadata": {},
   "source": [
    "# A Simple DNN Network to teach computers Rock, Paper, Scissors, Lizard, Spock\n",
    "\n",
    "This notebook captures all steps to build a simple DNN network to teach the computer rules to play the Rock, Paper, Scissors, Lizard, Spock game:\n",
    "\n",
    "As Sheldon in Big Bang Theory explains, \"Scissors cuts paper, paper covers rock, rock rushes lizard, lizard poisons Spock, Spock smashes scissors, scissors decapitates lizard, lizard eats paper, paper disproves Spock, Spock vaporizes rock, and as it ways has, rock crushes scissors.\"\n",
    "\n",
    "## Inputs and outputs\n",
    "\n",
    "The inputs to the network is a one-hot array representing one of the possible throws, in the order of $[rock, paper, scissors, lizard, Spock]$. For example, $[1,0,0,0,0]$ represents Rock. The outputs of the network is also a one-hot array representing a winning throw that beats the input. For example, for a \"Rock\" input, the output can be either $[0,1,0,0,0]$ (paper) or $[0,0,0,0,1]$ (Spock).\n",
    "\n",
    "## Training set and overfitting\n",
    "\n",
    "We need a very tiny training set to cover all possilbe input-output combinations. We won't care about overfitting in this case as we know there's a perfect solution in this case.\n",
    "\n",
    "## Network topology\n",
    "\n",
    "We'll use a DNN with 1 hidden layer. This is probably unnecessary, given the simplcity of the problem. However, it's a good exercise to walk through the steps. We'll use Stochastic Gradient Descent to train the network. This is again unnecessary. This is merely an exercise to go through a typical training process."
   ]
  },
  {
   "cell_type": "code",
   "execution_count": 2,
   "metadata": {},
   "outputs": [],
   "source": [
    "import tensorflow as tf\n",
    "import numpy as np\n",
    "\n",
    "n_inputs = 5     # size of inputs\n",
    "n_hidden = 5     # number of neurons in hidden layer\n",
    "n_outputs = 5    # size of outputs"
   ]
  },
  {
   "cell_type": "code",
   "execution_count": 26,
   "metadata": {},
   "outputs": [],
   "source": [
    "# Since the training set is so small we can simply supply it as an array\n",
    "X = [\n",
    "    [1,0,0,0,0],\n",
    "    [1,0,0,0,0],\n",
    "    [0,1,0,0,0],\n",
    "    [0,1,0,0,0],\n",
    "    [0,0,1,0,0],\n",
    "    [0,0,1,0,0],\n",
    "    [0,0,0,1,0],\n",
    "    [0,0,0,1,0],\n",
    "    [0,0,0,0,1],\n",
    "    [0,0,0,0,1],\n",
    "]\n",
    "y = [\n",
    "    [0,1,0,0,0],\n",
    "    [0,0,0,0,1],\n",
    "    [0,0,1,0,0],\n",
    "    [0,0,0,1,0],\n",
    "    [1,0,0,0,0],\n",
    "    [0,0,0,0,1],\n",
    "    [1,0,0,0,0],\n",
    "    [0,0,1,0,0],\n",
    "    [0,1,0,0,0],\n",
    "    [0,0,0,1,0],\n",
    "]\n",
    "\n",
    "# we want to shuffle the previous arrays, but to keep the results repeatable, we'll use the same random seed\n",
    "np.random.seed(42)\n",
    "rnd_idx = np.random.permutation(len(X)) # we need to make sure both X and y are shuffled in the same way, hence generting indexes first\n",
    "X=np.take(X, rnd_idx, axis = 0)\n",
    "y=np.take(y, rnd_idx, axis = 0)"
   ]
  },
  {
   "cell_type": "code",
   "execution_count": 29,
   "metadata": {},
   "outputs": [
    {
     "data": {
      "text/plain": [
       "array([[0, 0, 0, 1, 0],\n",
       "       [1, 0, 0, 0, 0]])"
      ]
     },
     "execution_count": 29,
     "metadata": {},
     "output_type": "execute_result"
    }
   ],
   "source": [
    "# We'll set apart 2 elements as the test set\n",
    "X_train, y_train = X[:8], y[:8]\n",
    "X_valid, y_valid = X[:8], y[8:]"
   ]
  },
  {
   "cell_type": "code",
   "execution_count": null,
   "metadata": {},
   "outputs": [],
   "source": []
  }
 ],
 "metadata": {
  "kernelspec": {
   "display_name": "Python 3",
   "language": "python",
   "name": "python3"
  },
  "language_info": {
   "codemirror_mode": {
    "name": "ipython",
    "version": 3
   },
   "file_extension": ".py",
   "mimetype": "text/x-python",
   "name": "python",
   "nbconvert_exporter": "python",
   "pygments_lexer": "ipython3",
   "version": "3.6.6"
  }
 },
 "nbformat": 4,
 "nbformat_minor": 4
}
