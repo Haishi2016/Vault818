{
 "cells": [
  {
   "cell_type": "markdown",
   "metadata": {},
   "source": [
    "# ReLU\n",
    "\n",
    "## Definition\n",
    "In the context of artificial neural networks Rectified Liner Unit (ReLU) is a type of activation function that is defined as the positive part of its argument:\n",
    "\n",
    "$ f(x) = x^+ = max(0,x) = \\begin{cases}  0  &\\quad \\text{if } x\\leq0 \\\\ 1 & \\quad \\text{if } x>0 \\end{cases}$\n",
    "\n",
    "Or, in a more complete vector format:\n",
    "\n",
    "$h_{\\mathbf{w},b}(\\mathbf{X}) = max (\\mathbf{X}\\cdot\\mathbf{w}+b, 0)$"
   ]
  },
  {
   "cell_type": "code",
   "execution_count": 25,
   "metadata": {},
   "outputs": [
    {
     "data": {
      "image/png": "[encoded data removed]",
      "text/plain": [
       "<Figure size 432x288 with 1 Axes>"
      ]
     },
     "metadata": {
      "needs_background": "light"
     },
     "output_type": "display_data"
    }
   ],
   "source": [
    "# Plotting a ReUL graph\n",
    "from matplotlib import pyplot as plt\n",
    "import numpy as np\n",
    "%matplotlib inline      \n",
    "X = np.r_[-10:10]\n",
    "y = np.where(X > 0, X, 0)\n",
    "y_prime = np.where(X > 0, 1, 0)\n",
    "plt.xticks(X)\n",
    "plt.plot(X,y)\n",
    "plt.step(X,y_prime,'r--')\n",
    "plt.grid()\n",
    "plt.title(\"Sample ReLU\")\n",
    "plt.show()"
   ]
  },
  {
   "cell_type": "markdown",
   "metadata": {},
   "source": [
    "## References\n",
    "* https://en.wikipedia.org/wiki/Rectifier_(neural_networks)\n",
    "* https://www.youtube.com/watch?v=Ei6274NnDvU"
   ]
  },
  {
   "cell_type": "code",
   "execution_count": null,
   "metadata": {},
   "outputs": [],
   "source": [
    "#TBD: Leaky ReLU, Randomized ReLU, CIFA, NDSB\n",
    "# Performance of normal leaky ReLU(a= 100) is similar to ReLU, larger a = 5.5 performs much better\n",
    "# PReLU suffers from overfittin\n",
    "# RReLU combats overfitting well\n",
    "# Future work exploring training dynamics of RReLU activations\n",
    "# Vanishing Graident"
   ]
  }
 ],
 "metadata": {
  "kernelspec": {
   "display_name": "Python 3",
   "language": "python",
   "name": "python3"
  },
  "language_info": {
   "codemirror_mode": {
    "name": "ipython",
    "version": 3
   },
   "file_extension": ".py",
   "mimetype": "text/x-python",
   "name": "python",
   "nbconvert_exporter": "python",
   "pygments_lexer": "ipython3",
   "version": "3.6.6"
  }
 },
 "nbformat": 4,
 "nbformat_minor": 4
}
